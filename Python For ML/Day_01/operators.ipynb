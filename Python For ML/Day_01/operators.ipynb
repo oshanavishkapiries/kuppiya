{
 "cells": [
  {
   "cell_type": "code",
   "execution_count": null,
   "id": "4b3d2a23",
   "metadata": {},
   "outputs": [],
   "source": [
    "#addition\n",
    "print(2 + 3)\n",
    "\n",
    "#subtraction\n",
    "print(2 - 3)\n",
    "\n",
    "#multiplication\n",
    "print(2 * 3)\n",
    "\n",
    "#division\n",
    "print(2 / 3)\n",
    "\n",
    "#modulus\n",
    "print(2 % 3)\n",
    "\n",
    "#exponentiation\n",
    "print(2 ** 3)\n",
    "\n",
    "#floor division\n",
    "print(2 // 3)\n",
    "\n",
    "#rounding\n",
    "print(round(2.5))\n"
   ]
  },
  {
   "cell_type": "code",
   "execution_count": null,
   "id": "09cd5b92",
   "metadata": {},
   "outputs": [
    {
     "name": "stdout",
     "output_type": "stream",
     "text": [
      "True\n"
     ]
    }
   ],
   "source": [
    "# Write a short block of code that checks if the list product_ids contains any duplicate values.\n",
    "#  Your final answer True for False , should be stored in variable called has_duplicates you should aim for the most time efficient solution\n",
    "\n",
    "product_ids = [101,102,103,104,105,106,107,103,109]\n",
    "has_duplicates = len(set(product_ids)) != len(product_ids)\n",
    "print(has_duplicates)\n"
   ]
  },
  {
   "cell_type": "code",
   "execution_count": null,
   "id": "eda1d7c1",
   "metadata": {},
   "outputs": [],
   "source": [
    "# logical operators\n",
    "\n",
    "# and operator\n",
    "print ( 5 > 3 and 5 < 10)\n",
    "# or operator\n",
    "print ( 5 > 3 or 5 < 10)\n",
    "# not operator\n",
    "print ( not (5 > 3 and 5 < 10))\n"
   ]
  },
  {
   "cell_type": "code",
   "execution_count": 3,
   "id": "4d7d9b8f",
   "metadata": {},
   "outputs": [
    {
     "name": "stdout",
     "output_type": "stream",
     "text": [
      "True\n",
      "False\n"
     ]
    }
   ],
   "source": [
    "# identity operators\n",
    "\n",
    "# is operator\n",
    "print ( 5 is 5)\n",
    "print ( 5 is not 5)\n"
   ]
  },
  {
   "cell_type": "code",
   "execution_count": null,
   "id": "e81c32cc",
   "metadata": {},
   "outputs": [],
   "source": [
    "# operator precedence\n",
    "\n",
    " # ()\n",
    " # **\n",
    " # +x, -x, ~x\n",
    " # *, /, //, %\n",
    " # +, -\n",
    " # <<, >>\n",
    " # &\n",
    " # ^\n",
    " # |\n",
    " # <, <=, >, >=, !=, ==\n",
    " # is, is not\n",
    " # in, not in\n",
    " # not\n",
    " # and\n",
    " # or\n"
   ]
  }
 ],
 "metadata": {
  "kernelspec": {
   "display_name": "Python 3",
   "language": "python",
   "name": "python3"
  },
  "language_info": {
   "codemirror_mode": {
    "name": "ipython",
    "version": 3
   },
   "file_extension": ".py",
   "mimetype": "text/x-python",
   "name": "python",
   "nbconvert_exporter": "python",
   "pygments_lexer": "ipython3",
   "version": "3.13.7"
  }
 },
 "nbformat": 4,
 "nbformat_minor": 5
}
