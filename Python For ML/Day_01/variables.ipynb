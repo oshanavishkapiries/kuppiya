{
 "cells": [
  {
   "cell_type": "code",
   "execution_count": null,
   "id": "48e0e757",
   "metadata": {},
   "outputs": [],
   "source": [
    "newvariable=\"jhon\" # illegal not-good\n",
    "new_variable=\"jhon\" # illegal good\n",
    "_new_variable=\"jhon\" # illegal good\n",
    "newVariable=\"jhon\" # legal not-good\n",
    "NEW_VARIABLE=\"jhon\" # legal good\n",
    "newvariable2=\"jhon\" # ligle not-good\n",
    "2new_variable=\"jhon\" # illigle \n",
    "new-variable=\"jhon\" # illegal\n",
    "new variable2=\"jhon\" # illigle"
   ]
  }
 ],
 "metadata": {
  "kernelspec": {
   "display_name": "Python 3",
   "language": "python",
   "name": "python3"
  },
  "language_info": {
   "codemirror_mode": {
    "name": "ipython",
    "version": 3
   },
   "file_extension": ".py",
   "mimetype": "text/x-python",
   "name": "python",
   "nbconvert_exporter": "python",
   "pygments_lexer": "ipython3",
   "version": "3.13.7"
  }
 },
 "nbformat": 4,
 "nbformat_minor": 5
}
