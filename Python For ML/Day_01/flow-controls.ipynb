{
 "cells": [
  {
   "cell_type": "markdown",
   "id": "eaffa7f8",
   "metadata": {},
   "source": [
    "___\n",
    "### if conditions\n",
    "___"
   ]
  },
  {
   "cell_type": "code",
   "execution_count": 1,
   "id": "81922e6d",
   "metadata": {},
   "outputs": [
    {
     "name": "stdout",
     "output_type": "stream",
     "text": [
      "even\n"
     ]
    }
   ],
   "source": [
    "n = 10\n",
    "if n % 2 == 0:\n",
    "    print('even')\n",
    "else:\n",
    "    print('odd')"
   ]
  },
  {
   "cell_type": "code",
   "execution_count": null,
   "id": "25ed5197",
   "metadata": {},
   "outputs": [],
   "source": [
    "# write computer program to calculate a circumference of a circle with a given radius R ,\n",
    "# first you have to check whether the given radius is positive\n",
    "\n",
    "radius = 10\n",
    "PI =  3.14\n",
    "\n",
    "if radius > 0:\n",
    "    circumference = 2 * PI * radius\n",
    "    print(circumference)\n",
    "else:\n",
    "    print(\"invalid nagative number\")\n",
    "\n"
   ]
  },
  {
   "cell_type": "code",
   "execution_count": null,
   "id": "d303d3d1",
   "metadata": {},
   "outputs": [],
   "source": [
    "# write a python programme that take length of the two perpendicular sites right angle triangle as input and caculate the hypotenuse .\n",
    "# here also you have to validat the inputs \n",
    "\n",
    "\n"
   ]
  }
 ],
 "metadata": {
  "kernelspec": {
   "display_name": "Python 3",
   "language": "python",
   "name": "python3"
  },
  "language_info": {
   "codemirror_mode": {
    "name": "ipython",
    "version": 3
   },
   "file_extension": ".py",
   "mimetype": "text/x-python",
   "name": "python",
   "nbconvert_exporter": "python",
   "pygments_lexer": "ipython3",
   "version": "3.13.7"
  }
 },
 "nbformat": 4,
 "nbformat_minor": 5
}
