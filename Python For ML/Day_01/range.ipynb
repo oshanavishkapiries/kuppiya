{
 "cells": [
  {
   "cell_type": "code",
   "execution_count": 4,
   "id": "853ebbda",
   "metadata": {},
   "outputs": [
    {
     "name": "stdout",
     "output_type": "stream",
     "text": [
      "range(3, 24, 4)\n",
      "<class 'range'>\n",
      "[3, 7, 11, 15, 19, 23]\n"
     ]
    }
   ],
   "source": [
    "# 3 , 7 , 11 , 15 , 19 , 23\n",
    "\n",
    "range_1 = range(3,24,4)\n",
    "print(range_1)\n",
    "print(type(range_1))\n",
    "# range can not print directly\n",
    "print(list(range_1))"
   ]
  },
  {
   "cell_type": "code",
   "execution_count": 5,
   "id": "580c18ea",
   "metadata": {},
   "outputs": [
    {
     "name": "stdout",
     "output_type": "stream",
     "text": [
      "11\n"
     ]
    }
   ],
   "source": [
    "# range can access by index\n",
    "print(range_1[2])"
   ]
  },
  {
   "cell_type": "code",
   "execution_count": 9,
   "id": "83d68ea8",
   "metadata": {},
   "outputs": [
    {
     "name": "stdout",
     "output_type": "stream",
     "text": [
      "[1, 2, 3, 4, 5, 6, 7, 8, 9]\n",
      "[0, 1, 2, 3, 4, 5]\n"
     ]
    }
   ],
   "source": [
    "range_2 = range(1,10)\n",
    "print(list(range_2))\n",
    "\n",
    "range_3 = range(6)\n",
    "print(list(range_3))\n",
    "\n",
    "# range(start value, end value, step value)\n",
    "# if start value is not given it will start from 0\n",
    "# if step value is not given it will take 1 as default"
   ]
  }
 ],
 "metadata": {
  "kernelspec": {
   "display_name": "Python 3",
   "language": "python",
   "name": "python3"
  },
  "language_info": {
   "codemirror_mode": {
    "name": "ipython",
    "version": 3
   },
   "file_extension": ".py",
   "mimetype": "text/x-python",
   "name": "python",
   "nbconvert_exporter": "python",
   "pygments_lexer": "ipython3",
   "version": "3.13.7"
  }
 },
 "nbformat": 4,
 "nbformat_minor": 5
}
