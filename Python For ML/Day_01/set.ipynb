{
 "cells": [
  {
   "cell_type": "code",
   "execution_count": null,
   "id": "cbc59094",
   "metadata": {},
   "outputs": [
    {
     "name": "stdout",
     "output_type": "stream",
     "text": [
      "{'cricket', 'tennis', 'badminton', 'football'}\n",
      "True\n",
      "False\n"
     ]
    }
   ],
   "source": [
    "sports = {'cricket', 'football', 'tennis', 'badminton'}\n",
    "print(sports)\n",
    "\n",
    "# order of elements in a set is not guaranteed\n",
    "# we can not access elements in a set by index\n",
    "# we can only check if an element is in a set or not\n",
    "# we can add or remove elements from a set\n",
    "# changable but not updateable \n",
    "\n",
    "print('cricket' in sports)\n",
    "print('soccer' in sports)"
   ]
  },
  {
   "cell_type": "code",
   "execution_count": 5,
   "id": "b1f88cf7",
   "metadata": {},
   "outputs": [
    {
     "name": "stdout",
     "output_type": "stream",
     "text": [
      "{'cricket', 'tennis', 'badminton', 'football'}\n",
      "{'cricket', 'tennis', 'badminton', 'football'}\n"
     ]
    }
   ],
   "source": [
    "sports = {'cricket', 'football', 'tennis', 'badminton'}\n",
    "print(sports)\n",
    "\n",
    "# duplicate elements are not allowed\n",
    "sports.add('cricket')\n",
    "print(sports)\n"
   ]
  },
  {
   "cell_type": "code",
   "execution_count": 20,
   "id": "0e73fae6",
   "metadata": {},
   "outputs": [
    {
     "name": "stdout",
     "output_type": "stream",
     "text": [
      "{'ballerina', 'rugby', 'golf', 'hockey', 'cricket', 'football'}\n",
      "{'soccer', 'ballerina', 'rugby', 'golf', 'hockey', 'cricket', 'tennis', 'badminton', 'football'}\n"
     ]
    }
   ],
   "source": [
    "# add single item \n",
    "sports.add('ballerina')\n",
    "print(sports)\n",
    "\n",
    "# add multiple items\n",
    "# we can add multiple items to a set using update() method and values type can be list, tuple, set, etc.\n",
    "sports.update(['soccer', 'hockey'])\n",
    "sports.update({'golf', 'rugby'})\n",
    "sports.update(('tennis', 'badminton'))\n",
    "print(sports)\n"
   ]
  },
  {
   "cell_type": "code",
   "execution_count": 21,
   "id": "f5f244b2",
   "metadata": {},
   "outputs": [
    {
     "name": "stdout",
     "output_type": "stream",
     "text": [
      "{'soccer', 'ballerina', 'rugby', 'golf', 'hockey', 'cricket', 'badminton', 'football'}\n"
     ]
    }
   ],
   "source": [
    "# remove single item\n",
    "sports.remove('tennis')\n",
    "print(sports)"
   ]
  }
 ],
 "metadata": {
  "kernelspec": {
   "display_name": "Python 3",
   "language": "python",
   "name": "python3"
  },
  "language_info": {
   "codemirror_mode": {
    "name": "ipython",
    "version": 3
   },
   "file_extension": ".py",
   "mimetype": "text/x-python",
   "name": "python",
   "nbconvert_exporter": "python",
   "pygments_lexer": "ipython3",
   "version": "3.13.7"
  }
 },
 "nbformat": 4,
 "nbformat_minor": 5
}
