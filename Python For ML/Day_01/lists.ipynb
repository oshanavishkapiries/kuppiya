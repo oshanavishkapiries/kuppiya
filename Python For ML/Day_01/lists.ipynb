{
 "cells": [
  {
   "cell_type": "code",
   "execution_count": 1,
   "id": "d7b289ea",
   "metadata": {},
   "outputs": [
    {
     "name": "stdout",
     "output_type": "stream",
     "text": [
      "['a', 'b', 'c']\n"
     ]
    }
   ],
   "source": [
    "my_list=[\"a\",\"b\",\"c\"]\n",
    "print(my_list)"
   ]
  },
  {
   "cell_type": "code",
   "execution_count": 1,
   "id": "0d388f14",
   "metadata": {},
   "outputs": [
    {
     "name": "stdout",
     "output_type": "stream",
     "text": [
      "[1, 2, 3, 4, 5, 6]\n",
      "2103869795264\n",
      "[1, 2, 3, 4, 5, 10]\n",
      "2103869795264\n"
     ]
    }
   ],
   "source": [
    "my_list=[1,2,3,4,5,6]\n",
    "print(my_list)\n",
    "print(id(my_list))\n",
    "\n",
    "my_list[5]=10\n",
    "print(my_list)\n",
    "print(id(my_list))\n",
    "\n",
    "#list are imutable"
   ]
  },
  {
   "cell_type": "code",
   "execution_count": null,
   "id": "60e9b735",
   "metadata": {},
   "outputs": [
    {
     "name": "stdout",
     "output_type": "stream",
     "text": [
      "[1, 'dog', True]\n"
     ]
    }
   ],
   "source": [
    "my_list=[1,\"dog\",True]\n",
    "print(my_list)\n",
    "\n",
    "# allow all data types in a list"
   ]
  },
  {
   "cell_type": "code",
   "execution_count": 4,
   "id": "0c88e2e6",
   "metadata": {},
   "outputs": [
    {
     "name": "stdout",
     "output_type": "stream",
     "text": [
      "[3, 4, 5]\n"
     ]
    }
   ],
   "source": [
    "my_list=[1,2,3,4,5,6]\n",
    "print(my_list[2:5])"
   ]
  },
  {
   "cell_type": "code",
   "execution_count": 6,
   "id": "7a3dd740",
   "metadata": {},
   "outputs": [
    {
     "name": "stdout",
     "output_type": "stream",
     "text": [
      "4\n"
     ]
    }
   ],
   "source": [
    "my_list=[1,2,3,4,5,6]\n",
    "print(my_list[-3])"
   ]
  },
  {
   "cell_type": "code",
   "execution_count": 10,
   "id": "374d766b",
   "metadata": {},
   "outputs": [
    {
     "name": "stdout",
     "output_type": "stream",
     "text": [
      "[10, 8, 90, 60, 80, 18, 26]\n"
     ]
    }
   ],
   "source": [
    "my_list=[10,8,9,15,20,18,26]\n",
    "my_list[2:5]=[90,60,80]\n",
    "print(my_list)"
   ]
  },
  {
   "cell_type": "code",
   "execution_count": 1,
   "id": "80a71f33",
   "metadata": {},
   "outputs": [
    {
     "name": "stdout",
     "output_type": "stream",
     "text": [
      "[1, 2, 100, 3, 4, 5]\n"
     ]
    }
   ],
   "source": [
    "my_list=[1,2,3,4,5]\n",
    "my_list.insert(2,100)\n",
    "print(my_list)"
   ]
  },
  {
   "cell_type": "code",
   "execution_count": 3,
   "id": "0be519ad",
   "metadata": {},
   "outputs": [
    {
     "name": "stdout",
     "output_type": "stream",
     "text": [
      "[1, 2, 3, 4, 5, 100]\n"
     ]
    }
   ],
   "source": [
    "my_list=[1,2,3,4,5]\n",
    "my_list.append(100)\n",
    "print(my_list)"
   ]
  },
  {
   "cell_type": "code",
   "execution_count": 4,
   "id": "a816fd60",
   "metadata": {},
   "outputs": [
    {
     "name": "stdout",
     "output_type": "stream",
     "text": [
      "['dog', 'hourse']\n"
     ]
    }
   ],
   "source": [
    "my_list=[\"dog\",\"cat\",\"hourse\"]\n",
    "my_list.remove(\"cat\")\n",
    "print(my_list)\n"
   ]
  },
  {
   "cell_type": "code",
   "execution_count": null,
   "id": "c9a87fd0",
   "metadata": {},
   "outputs": [
    {
     "name": "stdout",
     "output_type": "stream",
     "text": [
      "['dog', 'cat', 'hourse']\n"
     ]
    }
   ],
   "source": [
    "my_list=[\"dog\",\"dog\",\"cat\",\"hourse\"]\n",
    "my_list.remove(\"dog\")\n",
    "print(my_list)\n",
    "\n",
    "# remove only first occurence   \n"
   ]
  },
  {
   "cell_type": "code",
   "execution_count": 7,
   "id": "f367248e",
   "metadata": {},
   "outputs": [
    {
     "name": "stdout",
     "output_type": "stream",
     "text": [
      "dog\n"
     ]
    }
   ],
   "source": [
    "my_list=[\"dog\",\"dog\",\"cat\",\"hourse\"]\n",
    "my_var = my_list.pop(1)\n",
    "print(my_var)\n"
   ]
  },
  {
   "cell_type": "code",
   "execution_count": 10,
   "id": "9e4874c5",
   "metadata": {},
   "outputs": [],
   "source": [
    "my_list=[\"dog\",\"dog\",\"cat\",\"hourse\"]\n",
    "del my_list\n"
   ]
  },
  {
   "cell_type": "code",
   "execution_count": 11,
   "id": "66048ed6",
   "metadata": {},
   "outputs": [
    {
     "name": "stdout",
     "output_type": "stream",
     "text": [
      "['cat', 'dog', 'dog', 'hourse']\n"
     ]
    }
   ],
   "source": [
    "my_list=[\"dog\",\"dog\",\"cat\",\"hourse\"]\n",
    "my_list.sort()\n",
    "print(my_list)\n"
   ]
  }
 ],
 "metadata": {
  "kernelspec": {
   "display_name": "Python 3",
   "language": "python",
   "name": "python3"
  },
  "language_info": {
   "codemirror_mode": {
    "name": "ipython",
    "version": 3
   },
   "file_extension": ".py",
   "mimetype": "text/x-python",
   "name": "python",
   "nbconvert_exporter": "python",
   "pygments_lexer": "ipython3",
   "version": "3.13.7"
  }
 },
 "nbformat": 4,
 "nbformat_minor": 5
}
