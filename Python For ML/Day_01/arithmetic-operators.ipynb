{
 "cells": [
  {
   "cell_type": "code",
   "execution_count": null,
   "id": "4b3d2a23",
   "metadata": {},
   "outputs": [],
   "source": [
    "#addition\n",
    "print(2 + 3)\n",
    "\n",
    "#subtraction\n",
    "print(2 - 3)\n",
    "\n",
    "#multiplication\n",
    "print(2 * 3)\n",
    "\n",
    "#division\n",
    "print(2 / 3)\n",
    "\n",
    "#modulus\n",
    "print(2 % 3)\n",
    "\n",
    "#exponentiation\n",
    "print(2 ** 3)\n",
    "\n",
    "#floor division\n",
    "print(2 // 3)\n",
    "\n",
    "#rounding\n",
    "print(round(2.5))\n"
   ]
  }
 ],
 "metadata": {
  "language_info": {
   "name": "python"
  }
 },
 "nbformat": 4,
 "nbformat_minor": 5
}
