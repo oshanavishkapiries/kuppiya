{
 "cells": [
  {
   "cell_type": "code",
   "execution_count": 3,
   "id": "0eba8005",
   "metadata": {},
   "outputs": [
    {
     "name": "stdout",
     "output_type": "stream",
     "text": [
      "['cricket', 'football', 'tennis', 'badminton'] <class 'list'>\n",
      "('cricket', 'football', 'tennis', 'badminton', 'hockey') <class 'tuple'>\n"
     ]
    }
   ],
   "source": [
    "sports = ('cricket', 'football', 'tennis', 'badminton')\n",
    "\n",
    "x = list(sports)\n",
    "print(x , type(x))\n",
    "\n",
    "x.append('hockey')\n",
    "\n",
    "sports = tuple(x)\n",
    "print(sports , type(sports))"
   ]
  },
  {
   "cell_type": "code",
   "execution_count": 5,
   "id": "104cfef8",
   "metadata": {},
   "outputs": [
    {
     "name": "stdout",
     "output_type": "stream",
     "text": [
      "<class 'str'>\n",
      "<class 'tuple'>\n"
     ]
    }
   ],
   "source": [
    "sport = ('cricket')\n",
    "print(type(sport))\n",
    "# paradox - tuple with single element is not a tuple\n",
    "# it is a string\n",
    "\n",
    "# tuple with single element\n",
    "sport = ('cricket',)\n",
    "print(type(sport))"
   ]
  },
  {
   "cell_type": "code",
   "execution_count": 7,
   "id": "e483129b",
   "metadata": {},
   "outputs": [
    {
     "name": "stdout",
     "output_type": "stream",
     "text": [
      "((1, 2, (3, 4, 5)), (6, 7, 8))\n",
      "(3, 4, 5)\n"
     ]
    }
   ],
   "source": [
    "# nasted tuple\n",
    "nested_tuple = ((1, 2, (3, 4, 5)), (6, 7, 8))\n",
    "print(nested_tuple)\n",
    "\n",
    "print(nested_tuple[0][2])\n"
   ]
  }
 ],
 "metadata": {
  "kernelspec": {
   "display_name": "Python 3",
   "language": "python",
   "name": "python3"
  },
  "language_info": {
   "codemirror_mode": {
    "name": "ipython",
    "version": 3
   },
   "file_extension": ".py",
   "mimetype": "text/x-python",
   "name": "python",
   "nbconvert_exporter": "python",
   "pygments_lexer": "ipython3",
   "version": "3.13.7"
  }
 },
 "nbformat": 4,
 "nbformat_minor": 5
}
