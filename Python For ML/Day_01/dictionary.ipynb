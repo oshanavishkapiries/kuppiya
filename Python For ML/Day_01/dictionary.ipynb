{
 "cells": [
  {
   "cell_type": "code",
   "execution_count": 1,
   "id": "008c6a32",
   "metadata": {},
   "outputs": [
    {
     "name": "stdout",
     "output_type": "stream",
     "text": [
      "{'name': 'Kuppiya', 'age': 25, 'city': 'Colombo'}\n"
     ]
    }
   ],
   "source": [
    "this_dict = {\n",
    "    \"name\": \"Kuppiya\",\n",
    "    \"age\": 25,\n",
    "    \"city\": \"Colombo\"\n",
    "}\n",
    "\n",
    "print(this_dict)"
   ]
  },
  {
   "cell_type": "code",
   "execution_count": 2,
   "id": "9ebb4b27",
   "metadata": {},
   "outputs": [
    {
     "name": "stdout",
     "output_type": "stream",
     "text": [
      "Kuppiya\n",
      "25\n",
      "Colombo\n"
     ]
    }
   ],
   "source": [
    "# access dictionary items\n",
    "print(this_dict[\"name\"])\n",
    "print(this_dict[\"age\"])\n",
    "print(this_dict[\"city\"])\n"
   ]
  },
  {
   "cell_type": "code",
   "execution_count": null,
   "id": "87170392",
   "metadata": {},
   "outputs": [
    {
     "name": "stdout",
     "output_type": "stream",
     "text": [
      "Kuppiya_2\n"
     ]
    }
   ],
   "source": [
    "this_dict = {\n",
    "    \"name\": \"Kuppiya\",\n",
    "    \"age\": 25,\n",
    "    \"city\": \"Colombo\",\n",
    "    \"name\": \"Kuppiya_2\"\n",
    "}\n",
    "\n",
    "print(this_dict[\"name\"])\n",
    "# keys can not be duplicated\n",
    "# if we try to add a key that already exists in the dictionary, the value of the key will be updated"
   ]
  },
  {
   "cell_type": "code",
   "execution_count": null,
   "id": "138f4b8d",
   "metadata": {},
   "outputs": [],
   "source": [
    "# python dictionary can have any type of values\n",
    "\n",
    "this_dict = {\n",
    "    \"name\": \"Kuppiya\",\n",
    "    \"age\": 25,\n",
    "    \"is_student\": True,\n",
    "    \"grades\": [80, 90, 75],\n",
    "    \"preferences\": {\n",
    "        \"sport\": \"cricket\",\n",
    "        \"music\": \"pop\"\n",
    "    }\n",
    "}\n",
    "\n",
    "# python dictionary keys always be immutable data type \n",
    "# we can not use mutable data types as keys in a dictionary\n",
    "# we can use immutable data types as keys in a dictionary\n",
    "# we can use strings, numbers, and tuples as keys in a dictionary\n",
    "# we can not use lists, sets, and dictionaries as keys in a dictionary\n"
   ]
  },
  {
   "cell_type": "code",
   "execution_count": null,
   "id": "1faf7859",
   "metadata": {},
   "outputs": [],
   "source": [
    "# consider the following code snippet \n",
    "my_dict = {\n",
    "    \"name\":\"alice\",\n",
    "    42:\"integer-key\",\n",
    "    (1,2):\"tuple-key\",\n",
    "    [3,4]:\"list-key\"\n",
    "}\n",
    "\n",
    "# 01 whitch of the key are valid\n",
    "\n",
    "# valid keys:\n",
    "# \"name\"\n",
    "# 42\n",
    "# (1,2,3)\n",
    "\n",
    "# 02 explain why some keys are not allowd as dictionary keys \n",
    "\n",
    "# mutable data types can not be used as keys in a dictionary\n",
    "\n",
    "# 03 rewrite the disctionary so that all keys are valid \n",
    "\n",
    "# valid keys:\n",
    "# \"name\"\n",
    "# 42\n",
    "# (1,2)\n",
    "# (3,4)\n"
   ]
  },
  {
   "cell_type": "code",
   "execution_count": 15,
   "id": "81358ff8",
   "metadata": {},
   "outputs": [
    {
     "name": "stdout",
     "output_type": "stream",
     "text": [
      "30\n"
     ]
    }
   ],
   "source": [
    "# get function in dictionary \n",
    "\n",
    "# we can use get() method to get the value of a key\n",
    "# if the key is not found, it will return None or we can specify a default value\n",
    "\n",
    "my_dict = {\n",
    "    \"name\":\"alice\",\n",
    "    42:\"integer-key\",\n",
    "    (1,2):\"tuple-key\",\n",
    "    #\"age\" : 25\n",
    "}\n",
    "\n",
    "print(my_dict.get(\"age\", 30))\n"
   ]
  },
  {
   "cell_type": "code",
   "execution_count": 20,
   "id": "1fd84d3f",
   "metadata": {},
   "outputs": [
    {
     "name": "stdout",
     "output_type": "stream",
     "text": [
      "{'name': 'sugar', 'weight': '1.5kg', 'price': 130.25, 'expire-date': '2025-10-02'}\n"
     ]
    }
   ],
   "source": [
    "this_dict = {\n",
    "    \"name\":\"sugar\",\n",
    "    \"weight\":\"1kg\",\n",
    "    \"price\":130.25\n",
    "}\n",
    "\n",
    "this_dict.update({ \"weight\":\"1.5kg\", \"expire-date\": \"2025-10-02\"})\n",
    "print(this_dict)"
   ]
  },
  {
   "cell_type": "code",
   "execution_count": 21,
   "id": "44939e62",
   "metadata": {},
   "outputs": [
    {
     "name": "stdout",
     "output_type": "stream",
     "text": [
      "{'name': 'alice', 42: 'integer-key', (1, 2): 'tuple-key'}\n",
      "{42: 'integer-key', (1, 2): 'tuple-key'}\n",
      "{}\n"
     ]
    }
   ],
   "source": [
    "# use pop , del and clear \n",
    "\n",
    "my_dict = {\n",
    "    \"name\":\"alice\",\n",
    "    42:\"integer-key\",\n",
    "    (1,2):\"tuple-key\",\n",
    "    \"age\" : 25\n",
    "}\n",
    "\n",
    "# pop() method removes the item with the specified key name\n",
    "my_dict.pop(\"age\")\n",
    "print(my_dict)\n",
    "\n",
    "# del() method removes the item with the specified key name\n",
    "del my_dict[\"name\"]\n",
    "print(my_dict)\n",
    "\n",
    "# clear() method removes all the items from the dictionary\n",
    "my_dict.clear()\n",
    "print(my_dict)\n"
   ]
  }
 ],
 "metadata": {
  "kernelspec": {
   "display_name": "Python 3",
   "language": "python",
   "name": "python3"
  },
  "language_info": {
   "codemirror_mode": {
    "name": "ipython",
    "version": 3
   },
   "file_extension": ".py",
   "mimetype": "text/x-python",
   "name": "python",
   "nbconvert_exporter": "python",
   "pygments_lexer": "ipython3",
   "version": "3.13.7"
  }
 },
 "nbformat": 4,
 "nbformat_minor": 5
}
